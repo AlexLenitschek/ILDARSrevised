{
 "cells": [
  {
   "cell_type": "code",
   "execution_count": 1,
   "id": "629cc151-d721-4fc4-81da-6003e8b4f23d",
   "metadata": {},
   "outputs": [
    {
     "name": "stdout",
     "output_type": "stream",
     "text": [
      "found 10 direct signals\n",
      "found 39 reflected signals\n"
     ]
    },
    {
     "data": {
      "text/plain": [
       "<vedo.plotter.Plotter at 0x7f2618353f70>"
      ]
     },
     "execution_count": 1,
     "metadata": {},
     "output_type": "execute_result"
    }
   ],
   "source": [
    "import ildars\n",
    "from evaluation import testrooms\n",
    "from evaluation import signal_simulation\n",
    "import random\n",
    "import numpy as np\n",
    "\n",
    "receiver_position = (0, 0, 0)\n",
    "# random sender positions\n",
    "sender_positions = [(random.uniform(-1,1), random.uniform(-1,1), random.uniform(-1,1)) for i in range(10)]\n",
    "\n",
    "(direct_signals, reflected_signals) = signal_simulation.generate_measurements(receiver_position,sender_positions,testrooms.CUBE)\n",
    "\n",
    "### Debugging visualization\n",
    "import vedo\n",
    "import os\n",
    "\n",
    "room = vedo.Mesh(os.getcwd() + \"/evaluation/testrooms/models/cube.obj\").wireframe()\n",
    "direct_signal_arrows = [\n",
    "    vedo.Arrow(receiver_position, np.add(receiver_position, direct_signal.direction),s=0.002).color(\"red\")\n",
    "    for direct_signal in direct_signals]\n",
    "reflected_signal_arrows = [vedo.Arrow(receiver_position, np.add(receiver_position, reflected_signal.direction),s=0.002).color(\"blue\") for reflected_signal in reflected_signals]\n",
    "\n",
    "vedo.show(room, direct_signal_arrows, reflected_signal_arrows)"
   ]
  }
 ],
 "metadata": {
  "kernelspec": {
   "display_name": "Python 3 (ipykernel)",
   "language": "python",
   "name": "python3"
  },
  "language_info": {
   "codemirror_mode": {
    "name": "ipython",
    "version": 3
   },
   "file_extension": ".py",
   "mimetype": "text/x-python",
   "name": "python",
   "nbconvert_exporter": "python",
   "pygments_lexer": "ipython3",
   "version": "3.9.13"
  }
 },
 "nbformat": 4,
 "nbformat_minor": 5
}
